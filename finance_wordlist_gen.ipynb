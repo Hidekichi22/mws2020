{
  "nbformat": 4,
  "nbformat_minor": 0,
  "metadata": {
    "colab": {
      "name": "balcklist.ipynb",
      "provenance": [],
      "toc_visible": true
    },
    "kernelspec": {
      "name": "python3",
      "display_name": "Python 3"
    }
  },
  "cells": [
    {
      "cell_type": "markdown",
      "metadata": {
        "id": "xY6ZAiKJgzzr",
        "colab_type": "text"
      },
      "source": [
        "# 銀行DBからのキーワードブラックリスト自動作成"
      ]
    },
    {
      "cell_type": "code",
      "metadata": {
        "id": "f3YKR62srA37",
        "colab_type": "code",
        "colab": {}
      },
      "source": [
        "url_list = [\n",
        "    '''http://www.koex.jp/''',\n",
        "    '''https://www.smbctb.co.jp/''',\n",
        "    '''https://www.lawsonbank.jp/''',\n",
        "    '''http://www.aeonbank.co.jp/''',\n",
        "    '''http://www.nochubank.or.jp/''',\n",
        "    '''http://www.kaiho-bank.co.jp/''',\n",
        "    '''http://nangin.jp/''',\n",
        "    '''http://www.taiyobank.co.jp/''',\n",
        "    '''http://www.howabank.co.jp/''',\n",
        "    '''http://www.kumamotobank.co.jp''',\n",
        "    '''http://www.nagasakibank.co.jp/''',\n",
        "    '''http://www.kyogin.co.jp/''',\n",
        "    '''http://www.fukuokachuo-bank.co.jp/''',\n",
        "    '''http://www.kochi-bank.co.jp/''',\n",
        "    '''http://www.himegin.co.jp/''',\n",
        "    '''http://www.kagawabank.co.jp/''',\n",
        "    '''https://www.tokugin.co.jp/''',\n",
        "    '''http://www.saikyobank.co.jp/''',\n",
        "    '''http://www.momijibank.co.jp/''',\n",
        "    '''http://www.tomatobank.co.jp/''',\n",
        "    '''http://www.shimagin.co.jp/''',\n",
        "    '''http://www.minatobk.co.jp/''',\n",
        "    '''http://www.daisanbank.co.jp/''',\n",
        "    '''http://www.chukyo-bank.co.jp/''',\n",
        "    '''http://www.meigin.com/''',\n",
        "    '''https://www.aichibank.co.jp/''',\n",
        "    '''http://www.shizuokachuo-bank.co.jp/''',\n",
        "    '''http://www.fukuho.co.jp/''',\n",
        "    '''http://www.first-bank.co.jp/''',\n",
        "    '''https://www.naganobank.co.jp/''',\n",
        "    '''http://www.taikobank.jp/''',\n",
        "    '''http://www.kanagawabank.co.jp/''',\n",
        "    '''http://www.tokyostarbank.co.jp/''',\n",
        "    '''http://www.higashi-nipponbank.co.jp/''',\n",
        "    '''http://www.keiyobank.co.jp/''',\n",
        "    '''http://www.tochigibank.co.jp/''',\n",
        "    '''http://www.towabank.co.jp/''',\n",
        "    '''http://www.daitobank.co.jp/''',\n",
        "    '''http://www.fukushimabank.co.jp/''',\n",
        "    '''https://www.sendaibank.co.jp/''',\n",
        "    '''http://www.kitagin.co.jp/''',\n",
        "    '''http://www.kirayaka.co.jp/''',\n",
        "    '''http://www.hokuyobank.co.jp/''',\n",
        "    '''https://www.jpmorgan.co.jp/country/JP/JA/about''',\n",
        "    '''http://www.citigroup.jp/''',\n",
        "    '''https://www.aozorabank.co.jp/''',\n",
        "    '''http://www.shinseibank.com/''',\n",
        "    '''http://www.nomura-trust.co.jp/''',\n",
        "    '''https://www.smtb.jp/''',\n",
        "    '''http://www.tr.mufg.jp/''',\n",
        "    '''http://www.kitakyushubank.co.jp/''',\n",
        "    '''http://www.ncbank.co.jp/''',\n",
        "    '''http://www.okinawa-bank.co.jp/''',\n",
        "    '''http://www.ryugin.co.jp/''',\n",
        "    '''http://www.kagin.co.jp/''',\n",
        "    '''http://www.miyagin.co.jp/''',\n",
        "    \"\"\"\thttps://www.mizuhobank.co.jp/\t\"\"\",\n",
        "\"\"\"\thttp://www.bk.mufg.jp/\t\"\"\",\n",
        "\"\"\"\thttp://www.smbc.co.jp/\t\"\"\",\n",
        "\"\"\"\thttps://www.resonabank.co.jp/\t\"\"\",\n",
        "\"\"\"\thttp://www.resona-gr.co.jp/saitamaresona/\t\"\"\",\n",
        "\"\"\"\thttp://www.sevenbank.co.jp/\t\"\"\",\n",
        "\"\"\"\thttp://www.hokkaidobank.co.jp/\t\"\"\",\n",
        "\"\"\"\thttp://www.a-bank.jp/\t\"\"\",\n",
        "\"\"\"\thttp://www.michinokubank.co.jp/\t\"\"\",\n",
        "\"\"\"\thttps://www.akita-bank.co.jp/\t\"\"\",\n",
        "\"\"\"\thttp://www.hokutobank.co.jp/\t\"\"\",\n",
        "\"\"\"\thttp://www.shonai.co.jp/\t\"\"\",\n",
        "\"\"\"\thttp://www.yamagatabank.co.jp/\t\"\"\",\n",
        "\"\"\"\thttp://www.iwatebank.co.jp/\t\"\"\",\n",
        "\"\"\"\thttp://www.tohoku-bank.co.jp/\t\"\"\",\n",
        "\"\"\"\thttp://www.gunmabank.co.jp/\t\"\"\",\n",
        "\"\"\"\thttp://www.ashikagabank.co.jp/\t\"\"\",\n",
        "\"\"\"\thttp://www.joyobank.co.jp/\t\"\"\",\n",
        "\"\"\"\thttp://www.tsukubabank.co.jp/\t\"\"\",\n",
        "\"\"\"\thttp://www.musashinobank.co.jp/\t\"\"\",\n",
        "\"\"\"\thttp://www.chibabank.co.jp/\t\"\"\",\n",
        "\"\"\"\thttp://www.chibakogyo-bank.co.jp/\t\"\"\",\n",
        "\"\"\"\thttps://www.kiraboshibank.co.jp/\t\"\"\",\n",
        "\"\"\"\thttp://www.boy.co.jp/\t\"\"\",\n",
        "\"\"\"\thttp://www.daishi-bank.co.jp/\t\"\"\",\n",
        "\"\"\"\thttp://www.hokuetsubank.co.jp/\t\"\"\",\n",
        "\"\"\"\thttp://www.yamanashibank.co.jp/\t\"\"\",\n",
        "\"\"\"\thttp://www.82bank.co.jp/\t\"\"\",\n",
        "\"\"\"\thttp://www.hokugin.co.jp/\t\"\"\",\n",
        "\"\"\"\thttp://www.toyamabank.co.jp/\t\"\"\",\n",
        "\"\"\"\thttp://www.hokkokubank.co.jp/\t\"\"\",\n",
        "\"\"\"\thttps://www.fukuibank.co.jp/\t\"\"\",\n",
        "\"\"\"\thttp://www.shizuokabank.co.jp/\t\"\"\",\n",
        "\"\"\"\thttp://www.surugabank.co.jp/\t\"\"\",\n",
        "\"\"\"\thttp://www.shimizubank.co.jp/\t\"\"\",\n",
        "\"\"\"\thttps://www.okb.co.jp/\t\"\"\",\n",
        "\"\"\"\thttp://www.juroku.co.jp/\t\"\"\",\n",
        "\"\"\"\thttp://www.miebank.co.jp/\t\"\"\",\n",
        "\"\"\"\thttp://www.hyakugo.co.jp/\t\"\"\",\n",
        "\"\"\"\thttp://www.shigagin.com/\t\"\"\",\n",
        "\"\"\"\thttp://www.kyotobank.co.jp/\t\"\"\",\n",
        "\"\"\"\thttps://www.kansaimiraibank.co.jp/\t\"\"\",\n",
        "\"\"\"\thttps://www.sihd-bk.jp/\t\"\"\",\n",
        "\"\"\"\thttp://www.nantobank.co.jp/\t\"\"\",\n",
        "\"\"\"\thttp://www.kiyobank.co.jp/\t\"\"\",\n",
        "\"\"\"\thttp://www.tajimabank.co.jp/\t\"\"\",\n",
        "\"\"\"\thttp://www.tottoribank.co.jp/index.html\t\"\"\",\n",
        "\"\"\"\thttp://www.gogin.co.jp/\t\"\"\",\n",
        "\"\"\"\thttp://www.chugin.co.jp/\t\"\"\",\n",
        "\"\"\"\thttps://www.hirogin.co.jp/\t\"\"\",\n",
        "\"\"\"\thttp://www.yamaguchibank.co.jp/\t\"\"\",\n",
        "\"\"\"\thttps://www.awabank.co.jp/\t\"\"\",\n",
        "\"\"\"\thttps://www.114bank.co.jp/\t\"\"\",\n",
        "\"\"\"\thttps://www.iyobank.co.jp/\t\"\"\",\n",
        "\"\"\"\thttp://www.shikokubank.co.jp/\t\"\"\",\n",
        "\"\"\"\thttp://www.fukuokabank.co.jp/\t\"\"\",\n",
        "\"\"\"\thttp://www.chikugin.co.jp/\t\"\"\",\n",
        "\"\"\"\thttp://www.sagabank.co.jp/\t\"\"\",\n",
        "\"\"\"\thttp://www.18bank.co.jp/\t\"\"\",\n",
        "\"\"\"\thttp://www.shinwabank.co.jp/\t\"\"\",\n",
        "\"\"\"\thttp://www.higobank.co.jp/\t\"\"\",\n",
        "\"\"\"\thttp://www.oitabank.co.jp/\t\"\"\",\n",
        "\"\"\"\thttps://www.mizuhobank.co.jp/\t\"\"\",\n",
        "\"\"\"\thttp://www.bk.mufg.jp/\t\"\"\",\n",
        "\"\"\"\thttp://www.smbc.co.jp/\t\"\"\",\n",
        "\"\"\"\thttps://www.resonabank.co.jp/\t\"\"\",\n",
        "\"\"\"\thttp://www.resona-gr.co.jp/saitamaresona/\t\"\"\",\n",
        "\"\"\"\thttp://www.sevenbank.co.jp/\t\"\"\",\n",
        "\"\"\"\thttp://www.hokkaidobank.co.jp/\t\"\"\",\n",
        "\"\"\"\thttp://www.a-bank.jp/\t\"\"\",\n",
        "\"\"\"\thttp://www.michinokubank.co.jp/\t\"\"\",\n",
        "\"\"\"\thttps://www.akita-bank.co.jp/\t\"\"\",\n",
        "\"\"\"\thttp://www.hokutobank.co.jp/\t\"\"\",\n",
        "\"\"\"\thttp://www.shonai.co.jp/\t\"\"\",\n",
        "\"\"\"\thttp://www.yamagatabank.co.jp/\t\"\"\",\n",
        "\"\"\"\thttp://www.iwatebank.co.jp/\t\"\"\",\n",
        "\"\"\"\thttp://www.tohoku-bank.co.jp/\t\"\"\",\n",
        "\"\"\"\thttp://www.gunmabank.co.jp/\t\"\"\",\n",
        "\"\"\"\thttp://www.ashikagabank.co.jp/\t\"\"\",\n",
        "\"\"\"\thttp://www.joyobank.co.jp/\t\"\"\",\n",
        "\"\"\"\thttp://www.tsukubabank.co.jp/\t\"\"\",\n",
        "\"\"\"\thttp://www.musashinobank.co.jp/\t\"\"\",\n",
        "\"\"\"\thttp://www.chibabank.co.jp/\t\"\"\",\n",
        "\"\"\"\thttp://www.chibakogyo-bank.co.jp/\t\"\"\",\n",
        "\"\"\"\thttps://www.kiraboshibank.co.jp/\t\"\"\",\n",
        "\"\"\"\thttp://www.boy.co.jp/\t\"\"\",\n",
        "\"\"\"\thttp://www.daishi-bank.co.jp/\t\"\"\",\n",
        "\"\"\"\thttp://www.hokuetsubank.co.jp/\t\"\"\",\n",
        "\"\"\"\thttp://www.yamanashibank.co.jp/\t\"\"\",\n",
        "\"\"\"\thttp://www.82bank.co.jp/\t\"\"\",\n",
        "\"\"\"\thttp://www.hokugin.co.jp/\t\"\"\",\n",
        "\"\"\"\thttp://www.toyamabank.co.jp/\t\"\"\",\n",
        "\"\"\"\thttp://www.hokkokubank.co.jp/\t\"\"\",\n",
        "\"\"\"\thttps://www.fukuibank.co.jp/\t\"\"\",\n",
        "\"\"\"\thttp://www.shizuokabank.co.jp/\t\"\"\",\n",
        "\"\"\"\thttp://www.surugabank.co.jp/\t\"\"\",\n",
        "\"\"\"\thttp://www.shimizubank.co.jp/\t\"\"\",\n",
        "\"\"\"\thttps://www.okb.co.jp/\t\"\"\",\n",
        "\"\"\"\thttp://www.juroku.co.jp/\t\"\"\",\n",
        "\"\"\"\thttp://www.miebank.co.jp/\t\"\"\",\n",
        "\"\"\"\thttp://www.hyakugo.co.jp/\t\"\"\",\n",
        "\"\"\"\thttp://www.shigagin.com/\t\"\"\",\n",
        "\"\"\"\thttp://www.kyotobank.co.jp/\t\"\"\",\n",
        "\"\"\"\thttps://www.kansaimiraibank.co.jp/\t\"\"\",\n",
        "\"\"\"\thttps://www.sihd-bk.jp/\t\"\"\",\n",
        "\"\"\"\thttp://www.nantobank.co.jp/\t\"\"\",\n",
        "\"\"\"\thttp://www.kiyobank.co.jp/\t\"\"\",\n",
        "\"\"\"\thttp://www.tajimabank.co.jp/\t\"\"\",\n",
        "\"\"\"\thttp://www.tottoribank.co.jp/index.html\t\"\"\",\n",
        "\"\"\"\thttp://www.gogin.co.jp/\t\"\"\",\n",
        "\"\"\"\thttp://www.chugin.co.jp/\t\"\"\",\n",
        "\"\"\"\thttps://www.hirogin.co.jp/\t\"\"\",\n",
        "\"\"\"\thttp://www.yamaguchibank.co.jp/\t\"\"\",\n",
        "\"\"\"\thttps://www.awabank.co.jp/\t\"\"\",\n",
        "\"\"\"\thttps://www.114bank.co.jp/\t\"\"\",\n",
        "\"\"\"\thttps://www.iyobank.co.jp/\t\"\"\",\n",
        "\"\"\"\thttp://www.shikokubank.co.jp/\t\"\"\",\n",
        "\"\"\"\thttp://www.fukuokabank.co.jp/\t\"\"\",\n",
        "\"\"\"\thttp://www.chikugin.co.jp/\t\"\"\",\n",
        "\"\"\"\thttp://www.sagabank.co.jp/\t\"\"\",\n",
        "\"\"\"\thttp://www.18bank.co.jp/\t\"\"\",\n",
        "\"\"\"\thttp://www.shinwabank.co.jp/\t\"\"\",\n",
        "\"\"\"\thttp://www.higobank.co.jp/\t\"\"\",\n",
        "\"\"\"\thttp://www.oitabank.co.jp/\t\"\"\",\n",
        "            ]"
      ],
      "execution_count": 1,
      "outputs": []
    },
    {
      "cell_type": "markdown",
      "metadata": {
        "id": "rwA60i8AcEyG",
        "colab_type": "text"
      },
      "source": [
        "#例外処理活用版スクレイピング"
      ]
    },
    {
      "cell_type": "code",
      "metadata": {
        "id": "p5EAQR0mS_d1",
        "colab_type": "code",
        "colab": {}
      },
      "source": [
        "import requests\n",
        "from bs4 import BeautifulSoup\n",
        "import chardet\n",
        "import time\n",
        "\n",
        "blacklist = []\n",
        "\n",
        "#while True:\n",
        "#try:\n",
        "for url_index in range(len(url_list)):\n",
        "  url = url_list[url_index]\n",
        "  try:\n",
        "    r = requests.get(url)\n",
        "    r.encoding = 'utf-8'  \n",
        "    soup = BeautifulSoup(r.text, 'html.parser')\n",
        "    head_info = soup.find('head')\n",
        "    title = head_info.find('title').getText()\n",
        "    \n",
        "    meta_description = head_info.find('meta', {'name' : 'description'})\n",
        "    description = meta_description['content']\n",
        "    \n",
        "    meta_keywords = head_info.find('meta', {'name' : 'keywords'})\n",
        "    keywords = meta_keywords['content']\n",
        "    time.sleep(5)\n",
        "  except:\n",
        "    pass\n",
        "    \n",
        "  \n",
        "  \n",
        "  word_len = len(soup.find_all(\"li\"))\n",
        "  word_list = []\n",
        "  fa_list = []\n",
        "\n",
        "  for w_i in range(word_len):\n",
        "    word_list.append(soup.find_all(\"li\")[w_i].text)\n",
        "\n",
        "  for i in range(len(word_list)): \n",
        "    if len(word_list[i]) > 2 and len(word_list[i]) < 11:\n",
        "      fa_list.append(word_list[i])\n",
        "\n",
        "  for br_index in range(len(fa_list)):\n",
        "    blacklist.append(fa_list[br_index])\n"
      ],
      "execution_count": null,
      "outputs": []
    },
    {
      "cell_type": "code",
      "metadata": {
        "id": "WxRatMveimi_",
        "colab_type": "code",
        "colab": {}
      },
      "source": [
        "for i in range(len(blacklist)):\n",
        "  blacklist[i] = blacklist[i].replace('\\n' , '')"
      ],
      "execution_count": null,
      "outputs": []
    },
    {
      "cell_type": "code",
      "metadata": {
        "id": "5QX2C3xwjrfr",
        "colab_type": "code",
        "colab": {}
      },
      "source": [
        "import collections\n",
        "collection = collections.Counter(blacklist).most_common(107)\n",
        "#set(blacklist)"
      ],
      "execution_count": null,
      "outputs": []
    },
    {
      "cell_type": "code",
      "metadata": {
        "id": "glTB4FWaaWHs",
        "colab_type": "code",
        "colab": {
          "base_uri": "https://localhost:8080/",
          "height": 1000
        },
        "outputId": "0edf35e9-0566-463d-8787-c8257aae335f"
      },
      "source": [
        "black_collection = []\n",
        "\n",
        "for i in range(107):\n",
        "  black_collection.append(collection[i][0])\n",
        "\n",
        "black_collection"
      ],
      "execution_count": null,
      "outputs": [
        {
          "output_type": "execute_result",
          "data": {
            "text/plain": [
              "['',\n",
              " '外貨預金',\n",
              " '投資信託',\n",
              " '採用情報',\n",
              " '住宅ローン',\n",
              " 'かりる',\n",
              " '教育ローン',\n",
              " 'そなえる',\n",
              " 'よくあるご質問',\n",
              " 'ためる・ふやす',\n",
              " '定期預金',\n",
              " 'サイトマップ',\n",
              " '個人のお客さま',\n",
              " 'ニュースリリース',\n",
              " '貸金庫',\n",
              " 'リフォームローン',\n",
              " 'お知らせ',\n",
              " '店舗・ATM',\n",
              " 'カードローン',\n",
              " 'フリーローン',\n",
              " 'マイカーローン',\n",
              " '電子公告',\n",
              " '口座開設',\n",
              " '資料請求',\n",
              " '法人のお客さま',\n",
              " '手数料一覧',\n",
              " '保険募集指針',\n",
              " '円預金',\n",
              " '利益相反管理方針',\n",
              " '終身保険',\n",
              " '個人年金保険',\n",
              " 'お問い合わせ',\n",
              " '会社概要',\n",
              " '店舗・ATMのご案内',\n",
              " '保険商品',\n",
              " '確定拠出年金',\n",
              " '勧誘方針',\n",
              " 'English',\n",
              " '資金調達',\n",
              " '経営方針',\n",
              " '総合口座',\n",
              " '�@�b�@',\n",
              " 'クレジットカード',\n",
              " '会社情報',\n",
              " 'ログイン',\n",
              " '便利なサービス',\n",
              " '便利に使う',\n",
              " 'その他のサービス',\n",
              " '株主総会',\n",
              " '口座をひらく',\n",
              " '各種手数料',\n",
              " '損害保険',\n",
              " 'トップメッセージ',\n",
              " '外貨両替',\n",
              " 'IRカレンダー',\n",
              " '火災保険',\n",
              " 'ローン',\n",
              " '個人情報保護宣言',\n",
              " '各種お手続き',\n",
              " '預金保険制度について',\n",
              " '普通預金',\n",
              " '規定一覧',\n",
              " '各種サービス',\n",
              " '株主・投資家の皆さま',\n",
              " '決算短信',\n",
              " '��������',\n",
              " '����a��',\n",
              " '�����M��',\n",
              " '�Z�\\ue0cd�[��',\n",
              " '�����',\n",
              " '便利につかう',\n",
              " '貯蓄預金',\n",
              " '公共債',\n",
              " '生命保険',\n",
              " '外国送金',\n",
              " 'デビットカード',\n",
              " 'セキュリティ',\n",
              " '手数料',\n",
              " 'お問合せ',\n",
              " '金利一覧',\n",
              " '金利情報',\n",
              " 'キャンペーン一覧',\n",
              " '金融商品勧誘方針',\n",
              " 'プライバシーポリシー',\n",
              " '役員一覧',\n",
              " 'ニュースリリース一覧',\n",
              " 'ディスクロージャー誌',\n",
              " 'リンク集',\n",
              " 'IRニュース',\n",
              " '預金金利',\n",
              " '採用のご案内',\n",
              " '個人投資家の皆さまへ',\n",
              " '経営理念',\n",
              " '自動送金サービス',\n",
              " '新着情報',\n",
              " '財務ハイライト',\n",
              " 'スマホ決済サービス',\n",
              " '国債',\n",
              " '資産運用',\n",
              " 'セカンドライフ',\n",
              " 'スピード王MAX',\n",
              " 'ホーム',\n",
              " '中期経営計画',\n",
              " 'ご意見・ご要望',\n",
              " 'ATM',\n",
              " 'ディスクロージャー',\n",
              " '学資保険']"
            ]
          },
          "metadata": {
            "tags": []
          },
          "execution_count": 27
        }
      ]
    },
    {
      "cell_type": "code",
      "metadata": {
        "id": "vm_ISYICczUg",
        "colab_type": "code",
        "colab": {}
      },
      "source": [
        "#el black_collection[40]\n",
        "#black_collection.index(\"�@�b�@\")\n",
        "#black_collection"
      ],
      "execution_count": null,
      "outputs": []
    },
    {
      "cell_type": "code",
      "metadata": {
        "id": "vQHE-ebQZiG8",
        "colab_type": "code",
        "colab": {}
      },
      "source": [
        "import pandas as pd\n",
        "df = pd.DataFrame({'blackcollection':black_collection})\n",
        "df = df[\"blackcollection\"]\n",
        "df\n",
        "df.to_csv('blackcollection.csv')"
      ],
      "execution_count": null,
      "outputs": []
    },
    {
      "cell_type": "code",
      "metadata": {
        "id": "wWKnDc6pZ32L",
        "colab_type": "code",
        "colab": {
          "base_uri": "https://localhost:8080/",
          "height": 1000
        },
        "outputId": "8d5ac350-5fc8-47ec-8a6b-44f779b06b60"
      },
      "source": [
        "black_collection"
      ],
      "execution_count": null,
      "outputs": [
        {
          "output_type": "execute_result",
          "data": {
            "text/plain": [
              "['外貨預金',\n",
              " '投資信託',\n",
              " '採用情報',\n",
              " '住宅ローン',\n",
              " 'かりる',\n",
              " '教育ローン',\n",
              " 'そなえる',\n",
              " 'よくあるご質問',\n",
              " 'ためる・ふやす',\n",
              " '定期預金',\n",
              " 'サイトマップ',\n",
              " '個人のお客さま',\n",
              " 'ニュースリリース',\n",
              " '貸金庫',\n",
              " 'リフォームローン',\n",
              " 'お知らせ',\n",
              " '店舗・ATM',\n",
              " 'カードローン',\n",
              " 'フリーローン',\n",
              " 'マイカーローン',\n",
              " '電子公告',\n",
              " '口座開設',\n",
              " '資料請求',\n",
              " '法人のお客さま',\n",
              " '手数料一覧',\n",
              " '保険募集指針',\n",
              " '円預金',\n",
              " '利益相反管理方針',\n",
              " '終身保険',\n",
              " '個人年金保険',\n",
              " 'お問い合わせ',\n",
              " '会社概要',\n",
              " '店舗・ATMのご案内',\n",
              " '保険商品',\n",
              " '確定拠出年金',\n",
              " '勧誘方針',\n",
              " 'English',\n",
              " '資金調達',\n",
              " '経営方針',\n",
              " '総合口座',\n",
              " 'クレジットカード',\n",
              " '会社情報',\n",
              " 'ログイン',\n",
              " '便利なサービス',\n",
              " '便利に使う',\n",
              " 'その他のサービス',\n",
              " '株主総会',\n",
              " '口座をひらく',\n",
              " '各種手数料',\n",
              " '損害保険',\n",
              " 'トップメッセージ',\n",
              " '外貨両替',\n",
              " 'IRカレンダー',\n",
              " '火災保険',\n",
              " 'ローン',\n",
              " '個人情報保護宣言',\n",
              " '各種お手続き',\n",
              " '預金保険制度について',\n",
              " '普通預金',\n",
              " '規定一覧',\n",
              " '各種サービス',\n",
              " '株主・投資家の皆さま',\n",
              " '決算短信',\n",
              " '便利につかう',\n",
              " '貯蓄預金',\n",
              " '公共債',\n",
              " '生命保険',\n",
              " '外国送金',\n",
              " 'デビットカード',\n",
              " 'セキュリティ',\n",
              " '手数料',\n",
              " 'お問合せ',\n",
              " '金利一覧',\n",
              " '金利情報',\n",
              " 'キャンペーン一覧',\n",
              " '金融商品勧誘方針',\n",
              " 'プライバシーポリシー',\n",
              " '役員一覧',\n",
              " 'ニュースリリース一覧',\n",
              " 'ディスクロージャー誌',\n",
              " 'リンク集',\n",
              " 'IRニュース',\n",
              " '預金金利',\n",
              " '採用のご案内',\n",
              " '個人投資家の皆さまへ',\n",
              " '経営理念',\n",
              " '自動送金サービス',\n",
              " '新着情報',\n",
              " '財務ハイライト',\n",
              " 'スマホ決済サービス',\n",
              " '国債',\n",
              " '資産運用',\n",
              " 'セカンドライフ',\n",
              " 'スピード王MAX',\n",
              " 'ホーム',\n",
              " '中期経営計画',\n",
              " 'ご意見・ご要望',\n",
              " 'ATM',\n",
              " 'ディスクロージャー',\n",
              " '学資保険']"
            ]
          },
          "metadata": {
            "tags": []
          },
          "execution_count": 54
        }
      ]
    },
    {
      "cell_type": "code",
      "metadata": {
        "id": "hmcAQoT-d9pj",
        "colab_type": "code",
        "colab": {
          "base_uri": "https://localhost:8080/",
          "height": 35
        },
        "outputId": "cd76ee0d-cef4-4eaa-a6ba-ab79f4b6b77d"
      },
      "source": [
        "def n_gram(target, n):\n",
        "  return [ target[idx:idx + n] for idx in range(len(target) - n + 1)]\n",
        "\n",
        "target = black_collection[0]\n",
        "n_gram(target, 2)"
      ],
      "execution_count": null,
      "outputs": [
        {
          "output_type": "execute_result",
          "data": {
            "application/vnd.google.colaboratory.intrinsic+json": {
              "type": "string"
            },
            "text/plain": [
              "'外貨'"
            ]
          },
          "metadata": {
            "tags": []
          },
          "execution_count": 60
        }
      ]
    },
    {
      "cell_type": "code",
      "metadata": {
        "id": "QewbJtQkeWrt",
        "colab_type": "code",
        "colab": {}
      },
      "source": [
        "#two_gramlist = []\n",
        "#for i in range(len(black_collection)):\n",
        "  #for j in range(len(black_collection[i])):\n",
        "#  print(n_gram(black_collection[i], 2))"
      ],
      "execution_count": null,
      "outputs": []
    },
    {
      "cell_type": "code",
      "metadata": {
        "id": "zM8Uc6iEicEj",
        "colab_type": "code",
        "colab": {}
      },
      "source": [
        "two_gramlist = []\n",
        "for j in range(len(black_collection)):\n",
        "  for i in range(int(len(black_collection[j])-1)):\n",
        "    two_gramlist.append(n_gram(black_collection[j], 2)[i])\n",
        "#black_collection[0]\n",
        "#int(len(black_collection[0])/2)\n",
        "#for i in range(int(len(black_collection[0])-1)):\n",
        "# print(n_gram(black_collection[0], 2)[i])\n",
        "\n",
        "#listset(two_gramlist)\n",
        "\n",
        "df = pd.DataFrame({'two_gram':list(set(two_gramlist))})\n",
        "df = df[\"two_gram\"]\n",
        "df\n",
        "df.to_csv('twocollection.csv')"
      ],
      "execution_count": null,
      "outputs": []
    },
    {
      "cell_type": "code",
      "metadata": {
        "id": "I0NOxqw5mLjS",
        "colab_type": "code",
        "colab": {
          "base_uri": "https://localhost:8080/",
          "height": 35
        },
        "outputId": "3ba47285-a013-4719-811f-0494c5c5e3ea"
      },
      "source": [
        "n_gram(black_collection[j], 3)[0]"
      ],
      "execution_count": null,
      "outputs": [
        {
          "output_type": "execute_result",
          "data": {
            "application/vnd.google.colaboratory.intrinsic+json": {
              "type": "string"
            },
            "text/plain": [
              "'外貨預'"
            ]
          },
          "metadata": {
            "tags": []
          },
          "execution_count": 120
        }
      ]
    }
  ]
}